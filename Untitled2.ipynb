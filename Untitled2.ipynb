{
  "nbformat": 4,
  "nbformat_minor": 0,
  "metadata": {
    "colab": {
      "provenance": []
    },
    "kernelspec": {
      "name": "python3",
      "display_name": "Python 3"
    },
    "language_info": {
      "name": "python"
    }
  },
  "cells": [
    {
      "cell_type": "code",
      "execution_count": 1,
      "metadata": {
        "colab": {
          "base_uri": "https://localhost:8080/"
        },
        "id": "C1Yfq3ZMIoO-",
        "outputId": "3484988f-0d23-413c-ecdf-2575ed7b816c"
      },
      "outputs": [
        {
          "output_type": "stream",
          "name": "stdout",
          "text": [
            "Mounted at /content/drive\n"
          ]
        }
      ],
      "source": [
        "from google.colab import drive\n",
        "drive.mount('/content/drive')"
      ]
    },
    {
      "cell_type": "code",
      "source": [
        "cd '/content/drive/MyDrive/AI_ASSIGNMENT_03'"
      ],
      "metadata": {
        "colab": {
          "base_uri": "https://localhost:8080/"
        },
        "id": "ZR9UhgMVJPfn",
        "outputId": "8ef63a03-8d61-4919-f5fa-5eab02664bc3"
      },
      "execution_count": 2,
      "outputs": [
        {
          "output_type": "stream",
          "name": "stdout",
          "text": [
            "/content/drive/MyDrive/AI_ASSIGNMENT_03\n"
          ]
        }
      ]
    },
    {
      "cell_type": "code",
      "source": [
        "import numpy as np\n",
        "import pandas as pd\n",
        "import matplotlib.pyplot as plt\n",
        "import math"
      ],
      "metadata": {
        "id": "IfQw9JHfJWdG"
      },
      "execution_count": 57,
      "outputs": []
    },
    {
      "cell_type": "code",
      "source": [
        "df = pd.read_csv(\"./train.csv\")\n",
        "df = df.dropna()\n",
        "print(df)"
      ],
      "metadata": {
        "colab": {
          "base_uri": "https://localhost:8080/"
        },
        "id": "jOELT2pwJaqq",
        "outputId": "474e3999-ffa7-475b-a60d-3540e4e02b04"
      },
      "execution_count": 4,
      "outputs": [
        {
          "output_type": "stream",
          "name": "stdout",
          "text": [
            "        x          y\n",
            "0    24.0  21.549452\n",
            "1    50.0  47.464463\n",
            "2    15.0  17.218656\n",
            "3    38.0  36.586398\n",
            "4    87.0  87.288984\n",
            "..    ...        ...\n",
            "695  58.0  58.595006\n",
            "696  93.0  94.625094\n",
            "697  82.0  88.603770\n",
            "698  66.0  63.648685\n",
            "699  97.0  94.975266\n",
            "\n",
            "[699 rows x 2 columns]\n"
          ]
        }
      ]
    },
    {
      "cell_type": "code",
      "source": [
        "w = np.random.randint(0, 50)\n",
        "b = np.random.randint(0, 50)\n",
        "row_count = df[\"x\"].size\n",
        "\n",
        "print(\"Initial weight: \", w)\n",
        "print(\"Initial bias: \", b)"
      ],
      "metadata": {
        "colab": {
          "base_uri": "https://localhost:8080/"
        },
        "id": "sRz9_gbHKeu0",
        "outputId": "12d4e624-9c9b-4b66-888f-888552c0bd87"
      },
      "execution_count": 6,
      "outputs": [
        {
          "output_type": "stream",
          "name": "stdout",
          "text": [
            "Initial weight:  13\n",
            "Initial bias:  16\n"
          ]
        }
      ]
    },
    {
      "cell_type": "code",
      "source": [
        "def predict(w, x, b):\n",
        "  return (w * x) + b"
      ],
      "metadata": {
        "id": "vi4oIMSjLNg5"
      },
      "execution_count": 7,
      "outputs": []
    },
    {
      "cell_type": "code",
      "source": [
        "def calculate_predictions(w, b):\n",
        "  results_from_prediction = [0] * row_count\n",
        "  i = 0\n",
        "  for x in df[\"x\"]:\n",
        "    results_from_prediction[i] = predict(w, x, b)\n",
        "    i += 1\n",
        "  return results_from_prediction"
      ],
      "metadata": {
        "id": "Zrmda8EMLfAQ"
      },
      "execution_count": 8,
      "outputs": []
    },
    {
      "cell_type": "code",
      "source": [
        "def calculate_errors(original, predicted):\n",
        "  errors = [0] * row_count\n",
        "  i = 0\n",
        "  for org_val, pred_val in zip(original, predicted):\n",
        "    errors[i] = int(math.sqrt((org_val - pred_val) ** 2))\n",
        "    i += 1\n",
        "  return errors"
      ],
      "metadata": {
        "id": "sXo5ZO8zMiF9"
      },
      "execution_count": 9,
      "outputs": []
    },
    {
      "cell_type": "code",
      "source": [
        "def mse(errors):\n",
        "  sum = 0\n",
        "  for err in errors:\n",
        "    sum += err\n",
        "  return int(sum / row_count)"
      ],
      "metadata": {
        "id": "JLKIiywDWhWy"
      },
      "execution_count": 10,
      "outputs": []
    },
    {
      "cell_type": "code",
      "source": [
        "def getResultFromChromosome(chromosome):\n",
        "  length = len(chromosome)\n",
        "  sum = 0\n",
        "  for i in range(length - 1, -1, -1):\n",
        "    sum += (2 ** (length - i - 1)) * chromosome[i]\n",
        "  return sum\n"
      ],
      "metadata": {
        "id": "aacCGyVtS4cX"
      },
      "execution_count": 11,
      "outputs": []
    },
    {
      "cell_type": "code",
      "source": [
        "def initialize_population(size=20, chromosome_length=8):\n",
        "  population = []\n",
        "  for i in range(0, size):\n",
        "    chromosome = [1 * np.random.randint(0, 2) for x in range(0, chromosome_length)]\n",
        "    population.append([chromosome, getResultFromChromosome(chromosome), 0])\n",
        "  return population\n"
      ],
      "metadata": {
        "id": "9Kr0KkfqPwaI"
      },
      "execution_count": 12,
      "outputs": []
    },
    {
      "cell_type": "code",
      "source": [
        "def feed_fitness(weight_population, bias_population):\n",
        "  i = 0\n",
        "  for weight, bias in zip(weight_population, bias_population):\n",
        "    predictions = calculate_predictions(w=weight[1], b=bias[1])\n",
        "    errors = calculate_errors(df[\"y\"], predictions)\n",
        "    mse_error = mse(errors)\n",
        "\n",
        "    weight_population[i][2] = mse_error\n",
        "    bias_population[i][2] = mse_error\n",
        "\n",
        "    i += 1\n",
        "\n",
        "  return (weight_population, bias_population)"
      ],
      "metadata": {
        "id": "DqiQSmMO1Bua"
      },
      "execution_count": 47,
      "outputs": []
    },
    {
      "cell_type": "code",
      "source": [
        "def geneticAlgo(population):\n",
        "  population_size = len(population)\n",
        "  chromosome_size = len(population[0][0])\n",
        "  for i in range(0, population_size - 1):\n",
        "    first, second = population[i], population[i + 1]\n",
        "    random_index_1, random_index_2 = np.random.randint(0, chromosome_size), np.random.randint(0, chromosome_size)\n",
        "\n",
        "    temp = first[0][random_index_1]\n",
        "    first[0][random_index_1] = second[0][random_index_1]\n",
        "    second[0][random_index_1] = temp\n",
        "\n",
        "    temp = first[0][random_index_2]\n",
        "    first[0][random_index_2] = second[0][random_index_2]\n",
        "    second[0][random_index_2] = temp\n",
        "\n",
        "    first = [first[0], getResultFromChromosome(first[0]), first[2]]\n",
        "    second = [second[0], getResultFromChromosome(second[0]), second[2]]\n",
        "\n",
        "    population.append(first)\n",
        "    population.append(second)\n",
        "\n",
        "  return population"
      ],
      "metadata": {
        "id": "xSbJRpPhmTuy"
      },
      "execution_count": 14,
      "outputs": []
    },
    {
      "cell_type": "code",
      "source": [
        "weight_population = initialize_population(chromosome_length=3)\n",
        "bias_population = initialize_population(chromosome_length=3)\n",
        "i = 1\n",
        "\n",
        "while True:\n",
        "\n",
        "  weight_population, bias_population = feed_fitness(weight_population, bias_population)\n",
        "  weight_population = sorted(weight_population, key=lambda x: x[2])\n",
        "  bias_population = sorted(bias_population, key=lambda x: x[2])\n",
        "\n",
        "  if weight_population[0][2] <= 1:\n",
        "    print(\"Gen: \", i, \"weight: \", weight_population[0][1], \"bias: \", bias_population[0][1], \"Fitness: \", weight_population[0][2])\n",
        "    break\n",
        "\n",
        "  print(\"Gen: \", i, \"weight: \", weight_population[0][1], \"bias: \", bias_population[0][1], \"Fitness: \", weight_population[0][2])\n",
        "\n",
        "  weight_population = weight_population[:20]\n",
        "  bias_population = bias_population[:20]\n",
        "\n",
        "  weight_population = geneticAlgo(weight_population)\n",
        "  bias_population = geneticAlgo(bias_population)\n",
        "\n",
        "  i += 1\n",
        "\n"
      ],
      "metadata": {
        "colab": {
          "base_uri": "https://localhost:8080/"
        },
        "id": "2Ss3eWKpOBnY",
        "outputId": "8efecfae-994a-4054-cb3a-0509669f49da"
      },
      "execution_count": 53,
      "outputs": [
        {
          "output_type": "stream",
          "name": "stdout",
          "text": [
            "Gen:  1 weight:  1 bias:  2 Fitness:  2\n",
            "Gen:  2 weight:  1 bias:  1 Fitness:  1\n"
          ]
        }
      ]
    },
    {
      "cell_type": "code",
      "source": [
        "test_df = pd.read_csv(\"./test.csv\")\n",
        "print(test_df)"
      ],
      "metadata": {
        "id": "x7_xXC4Ss0BZ",
        "colab": {
          "base_uri": "https://localhost:8080/"
        },
        "outputId": "07adfc3e-f5f7-48df-8f6b-39dbe697f8a2"
      },
      "execution_count": 54,
      "outputs": [
        {
          "output_type": "stream",
          "name": "stdout",
          "text": [
            "      x          y\n",
            "0    77  79.775152\n",
            "1    21  23.177279\n",
            "2    22  25.609262\n",
            "3    20  17.857388\n",
            "4    36  41.849864\n",
            "..   ..        ...\n",
            "295  71  68.545888\n",
            "296  46  47.334876\n",
            "297  55  54.090637\n",
            "298  62  63.297171\n",
            "299  47  52.459467\n",
            "\n",
            "[300 rows x 2 columns]\n"
          ]
        }
      ]
    },
    {
      "cell_type": "code",
      "source": [
        "w = weight_population[0][1]\n",
        "b = bias_population[0][1]\n",
        "\n",
        "for row in test_df.values:\n",
        "  result = predict(w, row[0], b)\n",
        "  # print(\"Result:\", result, \"Original\", row[1])\n"
      ],
      "metadata": {
        "id": "ZyUd9TOxWP8R"
      },
      "execution_count": 55,
      "outputs": []
    },
    {
      "cell_type": "code",
      "source": [
        "x_values = np.linspace(0, 100)\n",
        "y_values = w * x_values + b\n",
        "\n",
        "plt.scatter(test_df[\"x\"], test_df[\"y\"])\n",
        "plt.plot(x_values, y_values, label='Line', color='red')\n",
        "plt.show()"
      ],
      "metadata": {
        "colab": {
          "base_uri": "https://localhost:8080/",
          "height": 430
        },
        "id": "bQ1Mo3KFXPGh",
        "outputId": "93718c1f-d115-4182-be4f-e2d4c3e9e957"
      },
      "execution_count": 56,
      "outputs": [
        {
          "output_type": "display_data",
          "data": {
            "text/plain": [
              "<Figure size 640x480 with 1 Axes>"
            ],
            "image/png": "[encoded data removed]"
          },
          "metadata": {}
        }
      ]
    }
  ]
}